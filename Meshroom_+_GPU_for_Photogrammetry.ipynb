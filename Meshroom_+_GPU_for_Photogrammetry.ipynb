{
  "nbformat": 4,
  "nbformat_minor": 0,
  "metadata": {
    "colab": {
      "name": "Meshroom + GPU for Photogrammetry",
      "provenance": [],
      "toc_visible": true
    },
    "kernelspec": {
      "name": "python3",
      "display_name": "Python 3"
    },
    "accelerator": "GPU"
  },
  "cells": [
    {
      "cell_type": "markdown",
      "metadata": {
        "id": "GV0aPgMN8PWY"
      },
      "source": [
        "(from https://gist.github.com/donmahallem/22134574382b7bd8a67c1550734fcfc4 . Thanks to Ryan Baumann for sharing the gist on Mastodon.)\n",
        "\n",
        "Make sure you have GPU runtime. If you run the code below and receive the error, 'GPU device not found', click on 'Runtime' in the menu at top, 'change runtime type', >> 'select hardware acceleration' and select GPU. Then re-run the code to make sure it's running."
      ]
    },
    {
      "cell_type": "code",
      "metadata": {
        "id": "Fn4dL7Sl8Fca",
        "colab": {
          "base_uri": "https://localhost:8080/"
        },
        "outputId": "238d48e5-e66b-4baa-9a5a-6593937d748e"
      },
      "source": [
        "import tensorflow as tf\n",
        "device_name = tf.test.gpu_device_name()\n",
        "if device_name != '/device:GPU:0':\n",
        "  raise SystemError('GPU device not found')\n",
        "print('Found GPU at: {}'.format(device_name))\n",
        "\n",
        "!nvidia-smi -L\n",
        "#!nvidia-smi -q"
      ],
      "execution_count": 1,
      "outputs": [
        {
          "output_type": "stream",
          "name": "stdout",
          "text": [
            "Found GPU at: /device:GPU:0\n",
            "GPU 0: Tesla T4 (UUID: GPU-8bfdb1f9-413a-99b7-ae92-0f61f7a7681e)\n"
          ]
        }
      ]
    },
    {
      "cell_type": "markdown",
      "metadata": {
        "id": "0eYTT15F8kqc"
      },
      "source": [
        "Get Meshroom and some data."
      ]
    },
    {
      "cell_type": "code",
      "metadata": {
        "id": "qetKvXVK8vWI"
      },
      "source": [
        "# IF YOU HAVE A FOLDER WITH IMAGES IN YOUR GOOGLE DRIVE\n",
        "# you can connect this notebook to your drive by using\n",
        "# this code:\n",
        "from google.colab import drive\n",
        "drive.mount('/content/drive')\n",
        "\n",
        "# and then your files will be available. You can click the\n",
        "# > at top left and select 'files' to see the file tree.\n",
        "# right-clicking on a file or folder will allow you to copy the full path\n",
        "# but nb if you then paste that path into any code, you need to remove the\n",
        "# `/content/` part of the path."
      ],
      "execution_count": null,
      "outputs": []
    },
    {
      "cell_type": "code",
      "metadata": {
        "id": "S6ILQQdD9TVU"
      },
      "source": [
        "# or you can run this cell to upload your files.\n",
        "\n",
        "from google.colab import files\n",
        "\n",
        "# optional upload for the meshfile\n",
        "\n",
        "uploaded = files.upload()\n",
        "\n",
        "for fn in uploaded.keys():\n",
        "    print('User uploaded file \"{name}\" with length {length} bytes'.format( name=fn, length=len(uploaded[fn])))"
      ],
      "execution_count": null,
      "outputs": []
    },
    {
      "cell_type": "markdown",
      "metadata": {
        "id": "Uw4xpkaiPZZd"
      },
      "source": [
        "If you upload files, make sure to move them into their own folder. Either upload as a zip file and then use `!unzip folder.zip` or use eg. `mv *.jpg /my_dataset/`"
      ]
    },
    {
      "cell_type": "code",
      "metadata": {
        "id": "ZqS-MIDLP1r1"
      },
      "source": [
        "!mkdir my_dataset\n",
        "!mv *.JPG my_dataset/"
      ],
      "execution_count": null,
      "outputs": []
    },
    {
      "cell_type": "code",
      "metadata": {
        "id": "fuZhBKUA8pm0",
        "colab": {
          "base_uri": "https://localhost:8080/"
        },
        "outputId": "b3ca6350-332f-4137-bbe1-b7921e7ccb1a"
      },
      "source": [
        "# or you can grab some data from AliceVision for the time being.\n",
        "!git clone https://github.com/alicevision/dataset_buddha\n"
      ],
      "execution_count": 2,
      "outputs": [
        {
          "output_type": "stream",
          "name": "stdout",
          "text": [
            "Cloning into 'dataset_buddha'...\n",
            "remote: Enumerating objects: 537, done.\u001b[K\n",
            "remote: Total 537 (delta 0), reused 0 (delta 0), pack-reused 537\u001b[K\n",
            "Receiving objects: 100% (537/537), 762.00 MiB | 17.61 MiB/s, done.\n",
            "Resolving deltas: 100% (147/147), done.\n",
            "Updating files: 100% (223/223), done.\n"
          ]
        }
      ]
    },
    {
      "cell_type": "code",
      "metadata": {
        "id": "8qj3sOUyPQ37",
        "colab": {
          "base_uri": "https://localhost:8080/"
        },
        "outputId": "1eccb388-d868-4fef-9981-a6663d4911a7"
      },
      "source": [
        "# get Meshroom\n",
        "#!pip install jq\n",
        "!apt install jq\n",
        "\n",
        "# get Meshroom\n",
        "!curl  'https://api.fosshub.com/download/' \\\n",
        "  -H 'authority: api.fosshub.com' \\\n",
        "  -H 'accept: */*' \\\n",
        "  -H 'accept-language: en-US,en;q=0.9' \\\n",
        "  -H 'content-type: application/json; charset=UTF-8' \\\n",
        "  -H 'origin: https://www.fosshub.com' \\\n",
        "  -H 'referer: https://www.fosshub.com/' \\\n",
        "  -H 'sec-ch-ua: \"Not/A)Brand\";v=\"99\", \"Google Chrome\";v=\"115\", \"Chromium\";v=\"115\"' \\\n",
        "  -H 'sec-ch-ua-mobile: ?0' \\\n",
        "  -H 'sec-ch-ua-platform: \"macOS\"' \\\n",
        "  -H 'sec-fetch-dest: empty' \\\n",
        "  -H 'sec-fetch-mode: cors' \\\n",
        "  -H 'sec-fetch-site: same-site' \\\n",
        "  -H 'user-agent: Mozilla/5.0 (Macintosh; Intel Mac OS X 10_15_7) AppleWebKit/537.36 (KHTML, like Gecko) Chrome/115.0.0.0 Safari/537.36' \\\n",
        "  --data-raw '{\"projectId\":\"5c6fe99776dd983e3dec2213\",\"releaseId\":\"6499a02acf0a39defa2f69cd\",\"projectUri\":\"Meshroom.html\",\"fileName\":\"Meshroom-2023.2.0-linux.tar.gz\",\"source\":\"CF\"}' \\\n",
        "  --compressed |  jq -r '.data.url' | xargs curl --output meshroom.tar.gz\n",
        "\n",
        "\n",
        "!mkdir meshroom\n",
        "!tar -xzf meshroom.tar.gz -C ./meshroom"
      ],
      "execution_count": null,
      "outputs": [
        {
          "output_type": "stream",
          "name": "stdout",
          "text": [
            "Reading package lists... Done\n",
            "Building dependency tree... Done\n",
            "Reading state information... Done\n",
            "The following additional packages will be installed:\n",
            "  libjq1 libonig5\n",
            "The following NEW packages will be installed:\n",
            "  jq libjq1 libonig5\n",
            "0 upgraded, 3 newly installed, 0 to remove and 16 not upgraded.\n",
            "Need to get 357 kB of archives.\n",
            "After this operation, 1,087 kB of additional disk space will be used.\n",
            "Get:1 http://archive.ubuntu.com/ubuntu jammy/main amd64 libonig5 amd64 6.9.7.1-2build1 [172 kB]\n",
            "Get:2 http://archive.ubuntu.com/ubuntu jammy/main amd64 libjq1 amd64 1.6-2.1ubuntu3 [133 kB]\n",
            "Get:3 http://archive.ubuntu.com/ubuntu jammy/main amd64 jq amd64 1.6-2.1ubuntu3 [52.5 kB]\n",
            "Fetched 357 kB in 2s (183 kB/s)\n",
            "Selecting previously unselected package libonig5:amd64.\n",
            "(Reading database ... 120831 files and directories currently installed.)\n",
            "Preparing to unpack .../libonig5_6.9.7.1-2build1_amd64.deb ...\n",
            "Unpacking libonig5:amd64 (6.9.7.1-2build1) ...\n",
            "Selecting previously unselected package libjq1:amd64.\n",
            "Preparing to unpack .../libjq1_1.6-2.1ubuntu3_amd64.deb ...\n",
            "Unpacking libjq1:amd64 (1.6-2.1ubuntu3) ...\n",
            "Selecting previously unselected package jq.\n",
            "Preparing to unpack .../jq_1.6-2.1ubuntu3_amd64.deb ...\n",
            "Unpacking jq (1.6-2.1ubuntu3) ...\n",
            "Setting up libonig5:amd64 (6.9.7.1-2build1) ...\n",
            "Setting up libjq1:amd64 (1.6-2.1ubuntu3) ...\n",
            "Setting up jq (1.6-2.1ubuntu3) ...\n",
            "Processing triggers for man-db (2.10.2-1) ...\n",
            "Processing triggers for libc-bin (2.35-0ubuntu3.1) ...\n",
            "/sbin/ldconfig.real: /usr/local/lib/libtbbmalloc.so.2 is not a symbolic link\n",
            "\n",
            "/sbin/ldconfig.real: /usr/local/lib/libtbbmalloc_proxy.so.2 is not a symbolic link\n",
            "\n",
            "/sbin/ldconfig.real: /usr/local/lib/libtbbbind.so.3 is not a symbolic link\n",
            "\n",
            "/sbin/ldconfig.real: /usr/local/lib/libtbbbind_2_5.so.3 is not a symbolic link\n",
            "\n",
            "/sbin/ldconfig.real: /usr/local/lib/libtbb.so.12 is not a symbolic link\n",
            "\n",
            "/sbin/ldconfig.real: /usr/local/lib/libtbbbind_2_0.so.3 is not a symbolic link\n",
            "\n",
            "  % Total    % Received % Xferd  Average Speed   Time    Time     Time  Current\n",
            "                                 Dload  Upload   Total   Spent    Left  Speed\n",
            "100   398    0   232  100   166    372    266 --:--:-- --:--:-- --:--:--   638\n",
            "  % Total    % Received % Xferd  Average Speed   Time    Time     Time  Current\n",
            "                                 Dload  Upload   Total   Spent    Left  Speed\n",
            "100 1062M  100 1062M    0     0  14.6M      0  0:01:12  0:01:12 --:--:-- 17.7M\n"
          ]
        }
      ]
    },
    {
      "cell_type": "markdown",
      "metadata": {
        "id": "Lop_Mdde9oaH"
      },
      "source": [
        "# Meshing!"
      ]
    },
    {
      "cell_type": "markdown",
      "metadata": {
        "id": "YJFWpW4AQOpR"
      },
      "source": [
        "Make sure that the next line points to the correct folder, eg my_dataset if you uploaded your own, or the dataset_buddha if you used wget to get the Buddha pictures from Alicevision. (and the line below would be chanted eg `--input ./dataset_buddha/buddha --output`)"
      ]
    },
    {
      "cell_type": "code",
      "metadata": {
        "id": "8Bnjh20K9aJm"
      },
      "source": [
        "!cd meshroom && ls\n",
        "!mkdir ./object_out\n",
        "# Force usage of GPU for feature extraction:\n",
        "# https://github.com/alicevision/meshroom/issues/502\n",
        "! ./meshroom/Meshroom-2023.2.0-av3.1.0-centos7-cuda11.3.1/meshroom_batch  --paramOverrides FeatureExtraction:forceCpuExtraction=0  --input ./dataset_buddha/buddha --output ./object_out\n"
      ],
      "execution_count": null,
      "outputs": []
    },
    {
      "cell_type": "code",
      "metadata": {
        "id": "wtz12QNl930T"
      },
      "source": [
        "# zip and download the results!\n",
        "!zip -r meshobject.zip ./object_out\n",
        "files.download('meshobject.zip')"
      ],
      "execution_count": null,
      "outputs": []
    }
  ]
}