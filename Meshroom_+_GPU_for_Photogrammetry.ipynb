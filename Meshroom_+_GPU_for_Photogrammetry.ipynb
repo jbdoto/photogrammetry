{
  "nbformat": 4,
  "nbformat_minor": 0,
  "metadata": {
    "colab": {
      "name": "Meshroom + GPU for Photogrammetry",
      "provenance": [],
      "toc_visible": true,
      "history_visible": true
    },
    "kernelspec": {
      "name": "python3",
      "display_name": "Python 3"
    },
    "accelerator": "GPU"
  },
  "cells": [
    {
      "cell_type": "markdown",
      "metadata": {
        "id": "GV0aPgMN8PWY"
      },
      "source": [
        "(from https://gist.github.com/donmahallem/22134574382b7bd8a67c1550734fcfc4 . Thanks to Ryan Baumann for sharing the gist on Mastodon.)\n",
        "\n",
        "Make sure you have GPU runtime. If you run the code below and receive the error, 'GPU device not found', click on 'Runtime' in the menu at top, 'change runtime type', >> 'select hardware acceleration' and select GPU. Then re-run the code to make sure it's running."
      ]
    },
    {
      "cell_type": "code",
      "metadata": {
        "id": "Fn4dL7Sl8Fca",
        "colab": {
          "base_uri": "https://localhost:8080/"
        },
        "outputId": "43abdb4f-63d0-450d-d008-11adb0a504e4"
      },
      "source": [
        "import tensorflow as tf\n",
        "device_name = tf.test.gpu_device_name()\n",
        "if device_name != '/device:GPU:0':\n",
        "  raise SystemError('GPU device not found')\n",
        "print('Found GPU at: {}'.format(device_name))"
      ],
      "execution_count": 1,
      "outputs": [
        {
          "output_type": "stream",
          "name": "stdout",
          "text": [
            "Found GPU at: /device:GPU:0\n"
          ]
        }
      ]
    },
    {
      "cell_type": "markdown",
      "metadata": {
        "id": "0eYTT15F8kqc"
      },
      "source": [
        "Get Meshroom and some data."
      ]
    },
    {
      "cell_type": "code",
      "metadata": {
        "id": "qetKvXVK8vWI"
      },
      "source": [
        "# IF YOU HAVE A FOLDER WITH IMAGES IN YOUR GOOGLE DRIVE\n",
        "# you can connect this notebook to your drive by using\n",
        "# this code:\n",
        "from google.colab import drive\n",
        "drive.mount('/content/drive')\n",
        "\n",
        "# and then your files will be available. You can click the\n",
        "# > at top left and select 'files' to see the file tree.\n",
        "# right-clicking on a file or folder will allow you to copy the full path\n",
        "# but nb if you then paste that path into any code, you need to remove the\n",
        "# `/content/` part of the path."
      ],
      "execution_count": null,
      "outputs": []
    },
    {
      "cell_type": "code",
      "metadata": {
        "id": "S6ILQQdD9TVU"
      },
      "source": [
        "# or you can run this cell to upload your files.\n",
        "\n",
        "from google.colab import files\n",
        "\n",
        "# optional upload for the meshfile\n",
        "\n",
        "uploaded = files.upload()\n",
        "\n",
        "for fn in uploaded.keys():\n",
        "    print('User uploaded file \"{name}\" with length {length} bytes'.format( name=fn, length=len(uploaded[fn])))"
      ],
      "execution_count": null,
      "outputs": []
    },
    {
      "cell_type": "markdown",
      "metadata": {
        "id": "Uw4xpkaiPZZd"
      },
      "source": [
        "If you upload files, make sure to move them into their own folder. Either upload as a zip file and then use `!unzip folder.zip` or use eg. `mv *.jpg /my_dataset/`"
      ]
    },
    {
      "cell_type": "code",
      "metadata": {
        "id": "ZqS-MIDLP1r1"
      },
      "source": [
        "!mkdir my_dataset\n",
        "!mv *.JPG my_dataset/"
      ],
      "execution_count": null,
      "outputs": []
    },
    {
      "cell_type": "code",
      "metadata": {
        "id": "fuZhBKUA8pm0",
        "colab": {
          "base_uri": "https://localhost:8080/"
        },
        "outputId": "0eb99c84-2dd8-4d1d-ffae-98221d850388"
      },
      "source": [
        "# or you can grab some data from AliceVision for the time being.\n",
        "!git clone https://github.com/alicevision/dataset_buddha\n"
      ],
      "execution_count": 2,
      "outputs": [
        {
          "output_type": "stream",
          "name": "stdout",
          "text": [
            "Cloning into 'dataset_buddha'...\n",
            "remote: Enumerating objects: 537, done.\u001b[K\n",
            "remote: Total 537 (delta 0), reused 0 (delta 0), pack-reused 537\u001b[K\n",
            "Receiving objects: 100% (537/537), 762.00 MiB | 45.82 MiB/s, done.\n",
            "Resolving deltas: 100% (147/147), done.\n",
            "Updating files: 100% (223/223), done.\n"
          ]
        }
      ]
    },
    {
      "cell_type": "code",
      "metadata": {
        "id": "8qj3sOUyPQ37",
        "colab": {
          "base_uri": "https://localhost:8080/"
        },
        "outputId": "b1e2c4a5-318c-4130-b826-a0d0871a2e17"
      },
      "source": [
        "#!pip install jq\n",
        "!apt install jq\n",
        "\n",
        "# get Meshroom\n",
        "!curl  'https://api.fosshub.com/download/' \\\n",
        "  -H 'authority: api.fosshub.com' \\\n",
        "  -H 'accept: */*' \\\n",
        "  -H 'accept-language: en-US,en;q=0.9' \\\n",
        "  -H 'content-type: application/json; charset=UTF-8' \\\n",
        "  -H 'origin: https://www.fosshub.com' \\\n",
        "  -H 'referer: https://www.fosshub.com/' \\\n",
        "  -H 'sec-ch-ua: \"Not/A)Brand\";v=\"99\", \"Google Chrome\";v=\"115\", \"Chromium\";v=\"115\"' \\\n",
        "  -H 'sec-ch-ua-mobile: ?0' \\\n",
        "  -H 'sec-ch-ua-platform: \"macOS\"' \\\n",
        "  -H 'sec-fetch-dest: empty' \\\n",
        "  -H 'sec-fetch-mode: cors' \\\n",
        "  -H 'sec-fetch-site: same-site' \\\n",
        "  -H 'user-agent: Mozilla/5.0 (Macintosh; Intel Mac OS X 10_15_7) AppleWebKit/537.36 (KHTML, like Gecko) Chrome/115.0.0.0 Safari/537.36' \\\n",
        "  --data-raw '{\"projectId\":\"5c6fe99776dd983e3dec2213\",\"releaseId\":\"6499a02acf0a39defa2f69cd\",\"projectUri\":\"Meshroom.html\",\"fileName\":\"Meshroom-2023.2.0-linux.tar.gz\",\"source\":\"CF\"}' \\\n",
        "  --compressed |  jq -r '.data.url' | xargs curl --output meshroom.tar.gz\n",
        "\n",
        "\n",
        "!mkdir meshroom\n",
        "!tar -xzf meshroom.tar.gz -C ./meshroom\n",
        "#!ls -alh"
      ],
      "execution_count": 29,
      "outputs": [
        {
          "output_type": "stream",
          "name": "stdout",
          "text": [
            "Reading package lists... Done\n",
            "Building dependency tree... Done\n",
            "Reading state information... Done\n",
            "jq is already the newest version (1.6-2.1ubuntu3).\n",
            "0 upgraded, 0 newly installed, 0 to remove and 16 not upgraded.\n",
            "  % Total    % Received % Xferd  Average Speed   Time    Time     Time  Current\n",
            "                                 Dload  Upload   Total   Spent    Left  Speed\n",
            "100   398    0   232  100   166    676    484 --:--:-- --:--:-- --:--:--  1160\n",
            "  % Total    % Received % Xferd  Average Speed   Time    Time     Time  Current\n",
            "                                 Dload  Upload   Total   Spent    Left  Speed\n",
            "100 1062M  100 1062M    0     0   193M      0  0:00:05  0:00:05 --:--:--  217M\n",
            "mkdir: cannot create directory ‘meshroom’: File exists\n"
          ]
        }
      ]
    },
    {
      "cell_type": "markdown",
      "metadata": {
        "id": "Lop_Mdde9oaH"
      },
      "source": [
        "# Meshing!"
      ]
    },
    {
      "cell_type": "markdown",
      "metadata": {
        "id": "YJFWpW4AQOpR"
      },
      "source": [
        "Make sure that the next line points to the correct folder, eg my_dataset if you uploaded your own, or the dataset_buddha if you used wget to get the Buddha pictures from Alicevision. (and the line below would be chanted eg `--input ./dataset_buddha/buddha --output`)"
      ]
    },
    {
      "cell_type": "code",
      "source": [
        "! ./meshroom/Meshroom-2023.2.0-av3.1.0-centos7-cuda11.3.1/meshroom_batch --help\n"
      ],
      "metadata": {
        "colab": {
          "base_uri": "https://localhost:8080/"
        },
        "id": "jVt3DIGhtcvS",
        "outputId": "ad3810a1-cfe2-49c2-daaf-2f2aabda38c2"
      },
      "execution_count": 31,
      "outputs": [
        {
          "output_type": "stream",
          "name": "stdout",
          "text": [
            "usage: meshroom_batch [-h] [-i [SFM/FOLDERS/IMAGES [SFM/FOLDERS/IMAGES ...]]]\n",
            "                      [-I [FOLDERS/IMAGES [FOLDERS/IMAGES ...]]]\n",
            "                      [-p FILE.mg/stereoPhotometry/cameraTracking/photogrammetry/photogrammetryAndCameraTracking/panoramaFisheyeHdr/photogrammetryDraft/hdrFusion/distortionCalibration/panoramaHdr]\n",
            "                      [--overrides SETTINGS]\n",
            "                      [--paramOverrides [NODETYPE:param=value NODEINSTANCE.param=value [NODETYPE:param=value NODEINSTANCE.param=value ...]]]\n",
            "                      [-o FOLDER] [--cache FOLDER] [--save FILE]\n",
            "                      [--compute <yes/no>] [--scale {-1,1,2,4,8,16}]\n",
            "                      [--toNode [NODE [NODE ...]]] [--forceStatus]\n",
            "                      [--forceCompute] [--submit] [--submitLabel SUBMITLABEL]\n",
            "                      [--submitter SUBMITTER]\n",
            "                      [-v {,fatal,error,warning,info,debug,trace}]\n",
            "\n",
            "Launch the full photogrammetry or Panorama HDR pipeline.\n",
            "\n",
            "optional arguments:\n",
            "  -h, --help            show this help message and exit\n",
            "  -i [SFM/FOLDERS/IMAGES [SFM/FOLDERS/IMAGES ...]], --input [SFM/FOLDERS/IMAGES [SFM/FOLDERS/IMAGES ...]]\n",
            "                        Input folder containing images or folders of images or\n",
            "                        file (.sfm or .json) with images paths and optionally\n",
            "                        predefined camera intrinsics.\n",
            "  -I [FOLDERS/IMAGES [FOLDERS/IMAGES ...]], --inputRecursive [FOLDERS/IMAGES [FOLDERS/IMAGES ...]]\n",
            "                        Input folders containing all images recursively.\n",
            "  -p FILE.mg/stereoPhotometry/cameraTracking/photogrammetry/photogrammetryAndCameraTracking/panoramaFisheyeHdr/photogrammetryDraft/hdrFusion/distortionCalibration/panoramaHdr, --pipeline FILE.mg/stereoPhotometry/cameraTracking/photogrammetry/photogrammetryAndCameraTracking/panoramaFisheyeHdr/photogrammetryDraft/hdrFusion/distortionCalibration/panoramaHdr\n",
            "                        Template pipeline among those listed or a Meshroom\n",
            "                        file containing a custom pipeline to run on input\n",
            "                        images. Requirements: the graph must contain one\n",
            "                        CameraInit node, and one Publish node if --output is\n",
            "                        set.\n",
            "  --overrides SETTINGS  A JSON file containing the graph parameters override.\n",
            "  --paramOverrides [NODETYPE:param=value NODEINSTANCE.param=value [NODETYPE:param=value NODEINSTANCE.param=value ...]]\n",
            "                        Override specific parameters directly from the command\n",
            "                        line (by node type or by node names).\n",
            "  -o FOLDER, --output FOLDER\n",
            "                        Output folder where results should be copied to. If\n",
            "                        not set, results will have to be retrieved directly\n",
            "                        from the cache folder.\n",
            "  --cache FOLDER        Custom cache folder to write computation results. If\n",
            "                        not set, the default cache folder will be used:\n",
            "                        /tmp/MeshroomCache\n",
            "  --save FILE           Save the configured Meshroom graph to a project file.\n",
            "                        It will setup the cache folder accordingly if not\n",
            "                        explicitly changed by --cache.\n",
            "  --compute <yes/no>    You can set it to <no/false/0> to disable the\n",
            "                        computation.\n",
            "  --scale {-1,1,2,4,8,16}\n",
            "                        Downscale factor override for DepthMap estimation. By\n",
            "                        default (-1): use pipeline default value.\n",
            "  --toNode [NODE [NODE ...]]\n",
            "                        Process the node(s) with its dependencies.\n",
            "  --forceStatus         Force computation if status is RUNNING or SUBMITTED.\n",
            "  --forceCompute        Compute in all cases even if already computed.\n",
            "  --submit              Submit on renderfarm instead of local computation.\n",
            "  --submitLabel SUBMITLABEL\n",
            "                        Label of a node in the submitter\n",
            "  --submitter SUBMITTER\n",
            "                        Execute job with a specific submitter.\n",
            "  -v {,fatal,error,warning,info,debug,trace}, --verbose {,fatal,error,warning,info,debug,trace}\n",
            "                        Verbosity level\n"
          ]
        }
      ]
    },
    {
      "cell_type": "code",
      "metadata": {
        "id": "8Bnjh20K9aJm",
        "colab": {
          "base_uri": "https://localhost:8080/"
        },
        "outputId": "600c9952-62fb-41a5-97a0-a34a297c8adf"
      },
      "source": [
        "!cd meshroom && ls\n",
        "!mkdir ./object_out\n",
        "# Force usage of GPU for feature extraction:\n",
        "# https://github.com/alicevision/meshroom/issues/502\n",
        "! ./meshroom/Meshroom-2023.2.0-av3.1.0-centos7-cuda11.3.1/meshroom_batch  --paramOverrides FeatureExtraction:forceCpuExtraction=0  --input ./dataset_buddha/buddha --output ./object_out"
      ],
      "execution_count": 36,
      "outputs": [
        {
          "output_type": "stream",
          "name": "stdout",
          "text": [
            "Meshroom-2023.2.0-av3.1.0-centos7-cuda11.3.1\n",
            "mkdir: cannot create directory ‘./object_out’: File exists\n",
            "[2023-08-24 15:27:48.627092] [0x0000798be3465000] [trace]   Embedded OCIO configuration file: '/content/meshroom/Meshroom-2023.2.0-av3.1.0-centos7-cuda11.3.1/aliceVision/share/aliceVision/config.ocio' found.\n",
            "Program called with the following parameters:\n",
            " * allowSingleView = 1\n",
            " * allowedCameraModels = \"pinhole,radial1,radial3,brown,fisheye4,fisheye1,3deanamorphic4,3deradial4,3declassicld\"\n",
            " * colorProfileDatabase = \"\" (default)\n",
            " * defaultCameraModel = \"\" (default)\n",
            " * defaultFieldOfView = 45\n",
            " * defaultFocalLength = -1 (default)\n",
            " * defaultFocalRatio = 1 (default)\n",
            " * defaultOffsetX = 0 (default)\n",
            " * defaultOffsetY = 0 (default)\n",
            " * errorOnMissingColorProfile = 1 (default)\n",
            " * groupCameraFallback =  Unknown Type \"20EGroupCameraFallback\"\n",
            " * imageFolder = \"\" (default)\n",
            " * input = \"/tmp/tmpvem36z5_/CameraInit/961e54591174ec5a2457c66da8eadc0cb03d89ba/viewpoints.sfm\"\n",
            " * lensCorrectionProfileInfo = \"\"\n",
            " * lensCorrectionProfileSearchIgnoreCameraModel = 1\n",
            " * maxCoresAvailable =  Unknown Type \"j\" (default)\n",
            " * maxMemoryAvailable = 18446744073709551615 (default)\n",
            " * output = \"/tmp/tmpvem36z5_/CameraInit/961e54591174ec5a2457c66da8eadc0cb03d89ba/cameraInit.sfm\"\n",
            " * rawColorInterpretation =  Unknown Type \"N11aliceVision5image23ERawColorInterpretationE\"\n",
            " * sensorDatabase = \"/content/meshroom/Meshroom-2023.2.0-av3.1.0-centos7-cuda11.3.1/aliceVision/share/aliceVision/cameraSensors.db\"\n",
            " * verboseLevel = \"info\"\n",
            " * viewIdMethod =  Unknown Type \"N11aliceVision9sfmDataIO13EViewIdMethodE\"\n",
            " * viewIdRegex = \".*?(\\d+)\" (default)\n",
            "\n",
            "Hardware : \n",
            "\tDetected core count : 2\n",
            "\tOpenMP will use 2 cores\n",
            "\tDetected available memory : 10858 Mo\n",
            "\n",
            "[15:27:48.644263][warning] Sensor size is unknown\n",
            "[15:27:48.644282][warning] Sensor size is unknown\n",
            "[15:27:48.644349][warning] Use default sensor size (36 mm)\n",
            "[15:27:48.644362][warning] Use default sensor size (36 mm)\n",
            "[15:27:48.644427][warning] Image '00054._c.png' focal length (in mm) metadata is missing.\n",
            "Can't compute focal length, use default.\n",
            "[15:27:48.644427][warning] Image '00053._c.png' focal length (in mm) metadata is missing.\n",
            "Can't compute focal length, use default.\n",
            "[15:27:48.644992][warning] Sensor size is unknown\n",
            "[15:27:48.645011][warning] Use default sensor size (36 mm)\n",
            "[15:27:48.644992][warning] Sensor size is unknown\n",
            "[15:27:48.645035][warning] Use default sensor size (36 mm)\n",
            "[15:27:48.645043][warning] Image '00017._c.png' focal length (in mm) metadata is missing.\n",
            "Can't compute focal length, use default.\n",
            "[15:27:48.645068][warning] Image '00019._c.png' focal length (in mm) metadata is missing.\n",
            "Can't compute focal length, use default.\n",
            "[15:27:48.645592][warning] Sensor size is unknown\n",
            "[15:27:48.645618][warning] Use default sensor size (36 mm)\n",
            "[15:27:48.645605][warning] Sensor size is unknown\n",
            "[15:27:48.645645][warning] Use default sensor size (36 mm)\n",
            "[15:27:48.645651][warning] Image '00033._c.png' focal length (in mm) metadata is missing.\n",
            "Can't compute focal length, use default.\n",
            "[15:27:48.645677][warning] Image '00044._c.png' focal length (in mm) metadata is missing.\n",
            "Can't compute focal length, use default.\n",
            "[15:27:48.646170][warning] Sensor size is unknown\n",
            "[15:27:48.646188][warning] Use default sensor size (36 mm)\n",
            "[15:27:48.646201][warning] Sensor size is unknown\n",
            "[15:27:48.646216][warning] Use default sensor size (36 mm)\n",
            "[15:27:48.646216][warning] Image '00038._c.png' focal length (in mm) metadata is missing.\n",
            "Can't compute focal length, use default.\n",
            "[15:27:48.646251][warning] Image '00008._c.png' focal length (in mm) metadata is missing.\n",
            "Can't compute focal length, use default.\n",
            "[15:27:48.646691][warning] Sensor size is unknown\n",
            "[15:27:48.646708][warning] Use default sensor size (36 mm)\n",
            "[15:27:48.646718][warning] Sensor size is unknown\n",
            "[15:27:48.646733][warning] Use default sensor size (36 mm)\n",
            "[15:27:48.646737][warning] Image '00060._c.png' focal length (in mm) metadata is missing.\n",
            "Can't compute focal length, use default.\n",
            "[15:27:48.646763][warning] Image '00063._c.png' focal length (in mm) metadata is missing.\n",
            "Can't compute focal length, use default.\n",
            "[15:27:48.647219][warning] Sensor size is unknown\n",
            "[15:27:48.647236][warning] Use default sensor size (36 mm)\n",
            "[15:27:48.647263][warning] Image '00007._c.png' focal length (in mm) metadata is missing.\n",
            "Can't compute focal length, use default.\n",
            "[15:27:48.647263][warning] Sensor size is unknown\n",
            "[15:27:48.647293][warning] Use default sensor size (36 mm)\n",
            "[15:27:48.647325][warning] Image '00015._c.png' focal length (in mm) metadata is missing.\n",
            "Can't compute focal length, use default.\n",
            "[15:27:48.647723][warning] Sensor size is unknown\n",
            "[15:27:48.647739][warning] Use default sensor size (36 mm)\n",
            "[15:27:48.647786][warning] Image '00032._c.png' focal length (in mm) metadata is missing.\n",
            "Can't compute focal length, use default.\n",
            "[15:27:48.647823][warning] Sensor size is unknown\n",
            "[15:27:48.647839][warning] Use default sensor size (36 mm)\n",
            "[15:27:48.647885][warning] Image '00036._c.png' focal length (in mm) metadata is missing.\n",
            "Can't compute focal length, use default.\n",
            "[15:27:48.648309][warning] Sensor size is unknown\n",
            "[15:27:48.648329][warning] Use default sensor size (36 mm)\n",
            "[15:27:48.648361][warning] Image '00030._c.png' focal length (in mm) metadata is missing.\n",
            "Can't compute focal length, use default.\n",
            "[15:27:48.648463][warning] Sensor size is unknown\n",
            "[15:27:48.648481][warning] Use default sensor size (36 mm)\n",
            "[15:27:48.648514][warning] Image '00013._c.png' focal length (in mm) metadata is missing.\n",
            "Can't compute focal length, use default.\n",
            "[15:27:48.648833][warning] Sensor size is unknown\n",
            "[15:27:48.648850][warning] Use default sensor size (36 mm)\n",
            "[15:27:48.648881][warning] Image '00037._c.png' focal length (in mm) metadata is missing.\n",
            "Can't compute focal length, use default.\n",
            "[15:27:48.648995][warning] Sensor size is unknown\n",
            "[15:27:48.649012][warning] Use default sensor size (36 mm)\n",
            "[15:27:48.649045][warning] Image '00020._c.png' focal length (in mm) metadata is missing.\n",
            "Can't compute focal length, use default.\n",
            "[15:27:48.649376][warning] Sensor size is unknown\n",
            "[15:27:48.649392][warning] Use default sensor size (36 mm)\n",
            "[15:27:48.649421][warning] Image '00065._c.png' focal length (in mm) metadata is missing.\n",
            "Can't compute focal length, use default.\n",
            "[15:27:48.649531][warning] Sensor size is unknown\n",
            "[15:27:48.649547][warning] Use default sensor size (36 mm)\n",
            "[15:27:48.649578][warning] Image '00062._c.png' focal length (in mm) metadata is missing.\n",
            "Can't compute focal length, use default.\n",
            "[15:27:48.649899][warning] Sensor size is unknown\n",
            "[15:27:48.649916][warning] Use default sensor size (36 mm)\n",
            "[15:27:48.649946][warning] Image '00039._c.png' focal length (in mm) metadata is missing.\n",
            "Can't compute focal length, use default.\n",
            "[15:27:48.650069][warning] Sensor size is unknown\n",
            "[15:27:48.650086][warning] Use default sensor size (36 mm)\n",
            "[15:27:48.650118][warning] Image '00004._c.png' focal length (in mm) metadata is missing.\n",
            "Can't compute focal length, use default.\n",
            "[15:27:48.650452][warning] Sensor size is unknown\n",
            "[15:27:48.650471][warning] Use default sensor size (36 mm)\n",
            "[15:27:48.650504][warning] Image '00050._c.png' focal length (in mm) metadata is missing.\n",
            "Can't compute focal length, use default.\n",
            "[15:27:48.650645][warning] Sensor size is unknown\n",
            "[15:27:48.650663][warning] Use default sensor size (36 mm)\n",
            "[15:27:48.650698][warning] Image '00048._c.png' focal length (in mm) metadata is missing.\n",
            "Can't compute focal length, use default.\n",
            "[15:27:48.651018][warning] Sensor size is unknown\n",
            "[15:27:48.651036][warning] Use default sensor size (36 mm)\n",
            "[15:27:48.651069][warning] Image '00028._c.png' focal length (in mm) metadata is missing.\n",
            "Can't compute focal length, use default.\n",
            "[15:27:48.651228][warning] Sensor size is unknown\n",
            "[15:27:48.651246][warning] Use default sensor size (36 mm)\n",
            "[15:27:48.651281][warning] Image '00001._c.png' focal length (in mm) metadata is missing.\n",
            "Can't compute focal length, use default.\n",
            "[15:27:48.651599][warning] Sensor size is unknown\n",
            "[15:27:48.651616][warning] Use default sensor size (36 mm)\n",
            "[15:27:48.651647][warning] Image '00034._c.png' focal length (in mm) metadata is missing.\n",
            "Can't compute focal length, use default.\n",
            "[15:27:48.651799][warning] Sensor size is unknown\n",
            "[15:27:48.651815][warning] Use default sensor size (36 mm)\n",
            "[15:27:48.651848][warning] Image '00051._c.png' focal length (in mm) metadata is missing.\n",
            "Can't compute focal length, use default.\n",
            "[15:27:48.652119][warning] Sensor size is unknown\n",
            "[15:27:48.652149][warning] Use default sensor size (36 mm)\n",
            "[15:27:48.652179][warning] Image '00059._c.png' focal length (in mm) metadata is missing.\n",
            "Can't compute focal length, use default.\n",
            "[15:27:48.652326][warning] Sensor size is unknown\n",
            "[15:27:48.652343][warning] Use default sensor size (36 mm)\n",
            "[15:27:48.652374][warning] Image '00057._c.png' focal length (in mm) metadata is missing.\n",
            "Can't compute focal length, use default.\n",
            "[15:27:48.652609][warning] Sensor size is unknown\n",
            "[15:27:48.652626][warning] Use default sensor size (36 mm)\n",
            "[15:27:48.652655][warning] Image '00056._c.png' focal length (in mm) metadata is missing.\n",
            "Can't compute focal length, use default.\n",
            "[15:27:48.652868][warning] Sensor size is unknown\n",
            "[15:27:48.652884][warning] Use default sensor size (36 mm)\n",
            "[15:27:48.652915][warning] Image '00005._c.png' focal length (in mm) metadata is missing.\n",
            "Can't compute focal length, use default.\n",
            "[15:27:48.653105][warning] Sensor size is unknown\n",
            "[15:27:48.653135][warning] Use default sensor size (36 mm)\n",
            "[15:27:48.653166][warning] Image '00009._c.png' focal length (in mm) metadata is missing.\n",
            "Can't compute focal length, use default.\n",
            "[15:27:48.653401][warning] Sensor size is unknown\n",
            "[15:27:48.653418][warning] Use default sensor size (36 mm)\n",
            "[15:27:48.653452][warning] Image '00012._c.png' focal length (in mm) metadata is missing.\n",
            "Can't compute focal length, use default.\n",
            "[15:27:48.653669][warning] Sensor size is unknown\n",
            "[15:27:48.653686][warning] Use default sensor size (36 mm)\n",
            "[15:27:48.653717][warning] Image '00047._c.png' focal length (in mm) metadata is missing.\n",
            "Can't compute focal length, use default.\n",
            "[15:27:48.653955][warning] Sensor size is unknown\n",
            "[15:27:48.653972][warning] Use default sensor size (36 mm)\n",
            "[15:27:48.654004][warning] Image '00026._c.png' focal length (in mm) metadata is missing.\n",
            "Can't compute focal length, use default.\n",
            "[15:27:48.654207][warning] Sensor size is unknown\n",
            "[15:27:48.654224][warning] Use default sensor size (36 mm)\n",
            "[15:27:48.654255][warning] Image '00027._c.png' focal length (in mm) metadata is missing.\n",
            "Can't compute focal length, use default.\n",
            "[15:27:48.654500][warning] Sensor size is unknown\n",
            "[15:27:48.654517][warning] Use default sensor size (36 mm)\n",
            "[15:27:48.654550][warning] Image '00014._c.png' focal length (in mm) metadata is missing.\n",
            "Can't compute focal length, use default.\n",
            "[15:27:48.654723][warning] Sensor size is unknown\n",
            "[15:27:48.654740][warning] Use default sensor size (36 mm)\n",
            "[15:27:48.654771][warning] Image '00042._c.png' focal length (in mm) metadata is missing.\n",
            "Can't compute focal length, use default.\n",
            "[15:27:48.655027][warning] Sensor size is unknown\n",
            "[15:27:48.655043][warning] Use default sensor size (36 mm)\n",
            "[15:27:48.655074][warning] Image '00025._c.png' focal length (in mm) metadata is missing.\n",
            "Can't compute focal length, use default.\n",
            "[15:27:48.655249][warning] Sensor size is unknown\n",
            "[15:27:48.655265][warning] Use default sensor size (36 mm)\n",
            "[15:27:48.655294][warning] Image '00058._c.png' focal length (in mm) metadata is missing.\n",
            "Can't compute focal length, use default.\n",
            "[15:27:48.655560][warning] Sensor size is unknown\n",
            "[15:27:48.655577][warning] Use default sensor size (36 mm)\n",
            "[15:27:48.655609][warning] Image '00055._c.png' focal length (in mm) metadata is missing.\n",
            "Can't compute focal length, use default.\n",
            "[15:27:48.655768][warning] Sensor size is unknown\n",
            "[15:27:48.655784][warning] Use default sensor size (36 mm)\n",
            "[15:27:48.655815][warning] Image '00045._c.png' focal length (in mm) metadata is missing.\n",
            "Can't compute focal length, use default.\n",
            "[15:27:48.656088][warning] Sensor size is unknown\n",
            "[15:27:48.656105][warning] Use default sensor size (36 mm)\n",
            "[15:27:48.656147][warning] Image '00061._c.png' focal length (in mm) metadata is missing.\n",
            "Can't compute focal length, use default.\n",
            "[15:27:48.656308][warning] Sensor size is unknown\n",
            "[15:27:48.656326][warning] Use default sensor size (36 mm)\n",
            "[15:27:48.656357][warning] Image '00049._c.png' focal length (in mm) metadata is missing.\n",
            "Can't compute focal length, use default.\n",
            "[15:27:48.656692][warning] Sensor size is unknown\n",
            "[15:27:48.656709][warning] Use default sensor size (36 mm)\n",
            "[15:27:48.656756][warning] Image '00003._c.png' focal length (in mm) metadata is missing.\n",
            "Can't compute focal length, use default.\n",
            "[15:27:48.656815][warning] Sensor size is unknown\n",
            "[15:27:48.656831][warning] Use default sensor size (36 mm)\n",
            "[15:27:48.656860][warning] Image '00041._c.png' focal length (in mm) metadata is missing.\n",
            "Can't compute focal length, use default.\n",
            "[15:27:48.657220][warning] Sensor size is unknown\n",
            "[15:27:48.657236][warning] Use default sensor size (36 mm)\n",
            "[15:27:48.657267][warning] Image '00029._c.png' focal length (in mm) metadata is missing.\n",
            "Can't compute focal length, use default.\n",
            "[15:27:48.657319][warning] Sensor size is unknown\n",
            "[15:27:48.657335][warning] Use default sensor size (36 mm)\n",
            "[15:27:48.657364][warning] Image '00010._c.png' focal length (in mm) metadata is missing.\n",
            "Can't compute focal length, use default.\n",
            "[15:27:48.657753][warning] Sensor size is unknown\n",
            "[15:27:48.657768][warning] Use default sensor size (36 mm)\n",
            "[15:27:48.657797][warning] Image '00011._c.png' focal length (in mm) metadata is missing.\n",
            "Can't compute focal length, use default.\n",
            "[15:27:48.657802][warning] Sensor size is unknown\n",
            "[15:27:48.657822][warning] Use default sensor size (36 mm)\n",
            "[15:27:48.657852][warning] Image '00035._c.png' focal length (in mm) metadata is missing.\n",
            "Can't compute focal length, use default.\n",
            "[15:27:48.658285][warning] Sensor size is unknown\n",
            "[15:27:48.658301][warning] Use default sensor size (36 mm)\n",
            "[15:27:48.658323][warning] Sensor size is unknown\n",
            "[15:27:48.658344][warning] Use default sensor size (36 mm)\n",
            "[15:27:48.658330][warning] Image '00066._c.png' focal length (in mm) metadata is missing.\n",
            "Can't compute focal length, use default.\n",
            "[15:27:48.658377][warning] Image '00031._c.png' focal length (in mm) metadata is missing.\n",
            "Can't compute focal length, use default.\n",
            "[15:27:48.658834][warning] Sensor size is unknown\n",
            "[15:27:48.658834][warning] Sensor size is unknown\n",
            "[15:27:48.658863][warning] Use default sensor size (36 mm)\n",
            "[15:27:48.658851][warning] Use default sensor size (36 mm)\n",
            "[15:27:48.658893][warning] Image '00016._c.png' focal length (in mm) metadata is missing.\n",
            "Can't compute focal length, use default.\n",
            "[15:27:48.658905][warning] Image '00002._c.png' focal length (in mm) metadata is missing.\n",
            "Can't compute focal length, use default.\n",
            "[15:27:48.659386][warning] Sensor size is unknown\n",
            "[15:27:48.659390][warning] Sensor size is unknown\n",
            "[15:27:48.659421][warning] Use default sensor size (36 mm)\n",
            "[15:27:48.659408][warning] Use default sensor size (36 mm)\n",
            "[15:27:48.659454][warning] Image '00024._c.png' focal length (in mm) metadata is missing.\n",
            "Can't compute focal length, use default.\n",
            "[15:27:48.659460][warning] Image '00023._c.png' focal length (in mm) metadata is missing.\n",
            "Can't compute focal length, use default.\n",
            "[15:27:48.659924][warning] Sensor size is unknown\n",
            "[15:27:48.659924][warning] Sensor size is unknown\n",
            "[15:27:48.659935][warning] Use default sensor size (36 mm)\n",
            "[15:27:48.659951][warning] Use default sensor size (36 mm)\n",
            "[15:27:48.659985][warning] Image '00040._c.png' focal length (in mm) metadata is missing.\n",
            "Can't compute focal length, use default.\n",
            "[15:27:48.659994][warning] Image '00022._c.png' focal length (in mm) metadata is missing.\n",
            "Can't compute focal length, use default.\n",
            "[15:27:48.660488][warning] Sensor size is unknown\n",
            "[15:27:48.660495][warning] Sensor size is unknown\n",
            "[15:27:48.660513][warning] Use default sensor size (36 mm)\n",
            "[15:27:48.660530][warning] Use default sensor size (36 mm)\n",
            "[15:27:48.660566][warning] Image '00043._c.png' focal length (in mm) metadata is missing.\n",
            "Can't compute focal length, use default.\n",
            "[15:27:48.660576][warning] Image '00006._c.png' focal length (in mm) metadata is missing.\n",
            "Can't compute focal length, use default.\n",
            "[15:27:48.661067][warning] Sensor size is unknown\n",
            "[15:27:48.661070][warning] Sensor size is unknown\n",
            "[15:27:48.661090][warning] Use default sensor size (36 mm)\n",
            "[15:27:48.661106][warning] Use default sensor size (36 mm)\n",
            "[15:27:48.661156][warning] Image '00021._c.png' focal length (in mm) metadata is missing.\n",
            "Can't compute focal length, use default.\n",
            "[15:27:48.661165][warning] Image '00018._c.png' focal length (in mm) metadata is missing.\n",
            "Can't compute focal length, use default.\n",
            "[15:27:48.661658][warning] Sensor size is unknown\n",
            "[15:27:48.661664][warning] Sensor size is unknown\n",
            "[15:27:48.661688][warning] Use default sensor size (36 mm)\n",
            "[15:27:48.661675][warning] Use default sensor size (36 mm)\n",
            "[15:27:48.661739][warning] Image '00067._c.png' focal length (in mm) metadata is missing.\n",
            "Can't compute focal length, use default.\n",
            "[15:27:48.661746][warning] Image '00064._c.png' focal length (in mm) metadata is missing.\n",
            "Can't compute focal length, use default.\n",
            "[15:27:48.662286][warning] Sensor size is unknown\n",
            "[15:27:48.662303][warning] Use default sensor size (36 mm)\n",
            "[15:27:48.662286][warning] Sensor size is unknown\n",
            "[15:27:48.662324][warning] Use default sensor size (36 mm)\n",
            "[15:27:48.662334][warning] Image '00052._c.png' focal length (in mm) metadata is missing.\n",
            "Can't compute focal length, use default.\n",
            "[15:27:48.662352][warning] Image '00046._c.png' focal length (in mm) metadata is missing.\n",
            "Can't compute focal length, use default.\n",
            "[15:27:48.662404][warning] Some image(s) have no serial number to identify the camera/lens device.\n",
            "This makes it impossible to correctly group the images by device if you have used multiple identical (same model) camera devices.\n",
            "The reconstruction will assume that only one device has been used, so if 2 images share the same focal length approximation they will share the same internal camera parameters.\n",
            "67 image(s) are concerned.\n",
            "[15:27:48.665383][info] CameraInit report:\n",
            "\t- # Views: 67\n",
            "\t   - # with focal length initialization (from metadata): 67\n",
            "\t   - # without metadata: 67\n",
            "\t   - # with DCP color calibration (raw images only): 0\n",
            "\t   - # with LCP lens distortion initialization: 0\n",
            "\t   - # with LCP vignetting calibration: 0\n",
            "\t- # Cameras Intrinsics: 1\n",
            "Nodes to execute:  []\n"
          ]
        }
      ]
    },
    {
      "cell_type": "code",
      "metadata": {
        "id": "wtz12QNl930T",
        "colab": {
          "base_uri": "https://localhost:8080/",
          "height": 88
        },
        "outputId": "e4b54c72-835f-43f3-a421-d1a51ef39f82"
      },
      "source": [
        "# zip and download the results!\n",
        "!zip -r meshobject.zip ./object_out\n",
        "\n",
        "from google.colab import files\n",
        "\n",
        "files.download('meshobject.zip')"
      ],
      "execution_count": 27,
      "outputs": [
        {
          "output_type": "stream",
          "name": "stdout",
          "text": [
            "updating: object_out/ (stored 0%)\n",
            "updating: object_out/texturedMesh.obj (deflated 71%)\n",
            "updating: object_out/texture_1001.exr (deflated 0%)\n",
            "updating: object_out/texturedMesh.mtl (deflated 35%)\n"
          ]
        },
        {
          "output_type": "display_data",
          "data": {
            "text/plain": [
              "<IPython.core.display.Javascript object>"
            ],
            "application/javascript": [
              "\n",
              "    async function download(id, filename, size) {\n",
              "      if (!google.colab.kernel.accessAllowed) {\n",
              "        return;\n",
              "      }\n",
              "      const div = document.createElement('div');\n",
              "      const label = document.createElement('label');\n",
              "      label.textContent = `Downloading \"${filename}\": `;\n",
              "      div.appendChild(label);\n",
              "      const progress = document.createElement('progress');\n",
              "      progress.max = size;\n",
              "      div.appendChild(progress);\n",
              "      document.body.appendChild(div);\n",
              "\n",
              "      const buffers = [];\n",
              "      let downloaded = 0;\n",
              "\n",
              "      const channel = await google.colab.kernel.comms.open(id);\n",
              "      // Send a message to notify the kernel that we're ready.\n",
              "      channel.send({})\n",
              "\n",
              "      for await (const message of channel.messages) {\n",
              "        // Send a message to notify the kernel that we're ready.\n",
              "        channel.send({})\n",
              "        if (message.buffers) {\n",
              "          for (const buffer of message.buffers) {\n",
              "            buffers.push(buffer);\n",
              "            downloaded += buffer.byteLength;\n",
              "            progress.value = downloaded;\n",
              "          }\n",
              "        }\n",
              "      }\n",
              "      const blob = new Blob(buffers, {type: 'application/binary'});\n",
              "      const a = document.createElement('a');\n",
              "      a.href = window.URL.createObjectURL(blob);\n",
              "      a.download = filename;\n",
              "      div.appendChild(a);\n",
              "      a.click();\n",
              "      div.remove();\n",
              "    }\n",
              "  "
            ]
          },
          "metadata": {}
        },
        {
          "output_type": "display_data",
          "data": {
            "text/plain": [
              "<IPython.core.display.Javascript object>"
            ],
            "application/javascript": [
              "download(\"download_bed88675-eb72-4b25-aaee-2f1373ac94fa\", \"meshobject.zip\", 80645011)"
            ]
          },
          "metadata": {}
        }
      ]
    }
  ]
}